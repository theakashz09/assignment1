{
 "cells": [
  {
   "cell_type": "raw",
   "id": "35fa629d-6b57-43e1-b023-62bc5872e197",
   "metadata": {},
   "source": [
    "Q1. Which keyword is used to create a function? Create a function to return a list of odd numbers in the\n",
    "range of 1 to 25.\n",
    "\n",
    "Ans = The def keyword is used to create a function,here is the example to return odd number list"
   ]
  },
  {
   "cell_type": "code",
   "execution_count": 1,
   "id": "92444683-bbf8-4bb5-8aa7-3e5d69521256",
   "metadata": {},
   "outputs": [
    {
     "name": "stdout",
     "output_type": "stream",
     "text": [
      "[1, 3, 5, 7, 9, 11, 13, 15, 17, 19, 21, 23, 25]\n"
     ]
    }
   ],
   "source": [
    "def odd_number():\n",
    "    \"\"\"return odd number list range 1-25\"\"\"\n",
    "    l1 = []\n",
    "    for i in range(1,26):\n",
    "        if i % 2 !=0:\n",
    "            l1.append(i)\n",
    "    return l1\n",
    "\n",
    "print (odd_number())"
   ]
  },
  {
   "cell_type": "raw",
   "id": "697f6076-42e1-4c95-a248-7eb2d4f19982",
   "metadata": {},
   "source": [
    "Q2. Why *args and **kwargs is used in some functions? Create a function each for *args and **kwargs\n",
    "to demonstrate their use.\n",
    "\n",
    "Ans = args enable us to pass the variable number of non keyword arguments to function, they can be numbers or string, kwarg means keyword arguments they contain a key value pair."
   ]
  },
  {
   "cell_type": "raw",
   "id": "de49e249-d5d3-4212-b8e0-0de81a707b82",
   "metadata": {},
   "source": [
    "Q3. What is an iterator in python? Name the method used to initialise the iterator object and the method\n",
    "used for iteration. Use these methods to print the first five elements of the given list [2, 4, 6, 8, 10, 12, 14,\n",
    "16, 18, 20].\n",
    "\n",
    "Ans=In python an iterator is an object that allowa us to tracerse through a sequence of value.Iterator are used in for loop and while loop to iterate over a sequence of value. An iterator object is initialized using the iter() method. the iter() mathod takes an iterable object as an argument and returns an iterator object"
   ]
  },
  {
   "cell_type": "code",
   "execution_count": 3,
   "id": "8e123c6e-1021-4f45-b055-8c9696bec4e3",
   "metadata": {},
   "outputs": [],
   "source": [
    "l=[2, 4, 6, 8, 10, 12, 14,16, 18, 20]"
   ]
  },
  {
   "cell_type": "code",
   "execution_count": 4,
   "id": "1d2534a5-7384-4708-9f64-7f0f83c49c2a",
   "metadata": {},
   "outputs": [
    {
     "data": {
      "text/plain": [
       "[2, 4, 6, 8, 10, 12, 14, 16, 18, 20]"
      ]
     },
     "execution_count": 4,
     "metadata": {},
     "output_type": "execute_result"
    }
   ],
   "source": [
    "l"
   ]
  },
  {
   "cell_type": "code",
   "execution_count": 5,
   "id": "433bc105-c7d3-4480-8b9d-08b178951fae",
   "metadata": {},
   "outputs": [],
   "source": [
    "l1 = l[0:5]"
   ]
  },
  {
   "cell_type": "code",
   "execution_count": 6,
   "id": "1d1809b6-7c1a-482a-b5b7-6a1174138a11",
   "metadata": {},
   "outputs": [
    {
     "data": {
      "text/plain": [
       "[2, 4, 6, 8, 10]"
      ]
     },
     "execution_count": 6,
     "metadata": {},
     "output_type": "execute_result"
    }
   ],
   "source": [
    "l1"
   ]
  },
  {
   "cell_type": "raw",
   "id": "a25df9e6-efed-4a99-9023-a31b6dbeb665",
   "metadata": {},
   "source": [
    "Q4. What is a generator function in python? Why yield keyword is used? Give an example of a generator\n",
    "function.\n",
    "\n",
    "Ans= A generator function in python is a finction that returns a sequence of value of on the fly without loading the entire sequence into memory at once. Generators use the yield keyword which allows a function to pause its execution and return a value to the caller while preserving its state between calls.The yield keyword is used in generator function to fgenerate a sequence of value . when the yield keyword is encountered the functions execution is paused and the value is returned to the caller the function state is preserved so when the function is called again it resume execution from where it left off. This allow generator functions to generate sequence of value without having to store the entire sequence in memory."
   ]
  },
  {
   "cell_type": "code",
   "execution_count": 7,
   "id": "0133af90-38b4-4def-92b2-dc1de034f62f",
   "metadata": {},
   "outputs": [
    {
     "name": "stdout",
     "output_type": "stream",
     "text": [
      "hello\n",
      "world\n"
     ]
    }
   ],
   "source": [
    "def generator_function():\n",
    "    yield\"hello\"\n",
    "    yield\"world\"\n",
    "    \n",
    "gen = generator_function()\n",
    "\n",
    "print(next(gen))\n",
    "print(next(gen))\n"
   ]
  },
  {
   "cell_type": "raw",
   "id": "12f310ac-e4a4-4c39-8c1b-3b57d0672334",
   "metadata": {},
   "source": [
    "Q5. Create a generator function for prime numbers less than 1000. Use the next() method to print the\n",
    "first 20 prime numbers.\n",
    "Ans= "
   ]
  },
  {
   "cell_type": "code",
   "execution_count": 4,
   "id": "2037099b-0387-4d61-a42a-871814e57b05",
   "metadata": {},
   "outputs": [
    {
     "name": "stdout",
     "output_type": "stream",
     "text": [
      "2\n",
      "3\n",
      "5\n",
      "7\n",
      "11\n",
      "13\n",
      "17\n",
      "19\n",
      "23\n",
      "29\n",
      "31\n",
      "37\n",
      "41\n",
      "43\n",
      "47\n",
      "53\n",
      "59\n",
      "61\n",
      "67\n",
      "71\n"
     ]
    }
   ],
   "source": [
    "def primes():\n",
    "    yield 2\n",
    "    primes_list = [2]\n",
    "    for i in range(3, 1000):\n",
    "        is_prime = True\n",
    "        for prime in primes_list:\n",
    "            if i % prime == 0:\n",
    "                is_prime = False\n",
    "                break\n",
    "        if is_prime:\n",
    "            primes_list.append(i)\n",
    "            yield i\n",
    "\n",
    "prime_gen = primes()\n",
    "for i in range(20):\n",
    "    print(next(prime_gen))\n"
   ]
  },
  {
   "cell_type": "raw",
   "id": "bf330d1a-dbbf-418a-99d0-ad93280da43d",
   "metadata": {},
   "source": [
    "Q6. Write a python program to print the first 10 Fibonacci numbers using a while loop."
   ]
  },
  {
   "cell_type": "code",
   "execution_count": 12,
   "id": "0b1527f6-c4cd-425c-98db-755ef5bb9535",
   "metadata": {},
   "outputs": [
    {
     "name": "stdout",
     "output_type": "stream",
     "text": [
      "0\n",
      "1\n",
      "1\n",
      "2\n",
      "3\n",
      "5\n",
      "8\n",
      "13\n",
      "21\n",
      "34\n"
     ]
    }
   ],
   "source": [
    "def fibonacci_num(n):\n",
    "   \n",
    "    a, b = 0, 1\n",
    "    counts = 0\n",
    "    while counts < n:\n",
    "        print(a)\n",
    "        a, b = b, a + b\n",
    "        counts += 1\n",
    "\n",
    "fibonacci_num(10)\n"
   ]
  },
  {
   "cell_type": "raw",
   "id": "497b7161-8ee9-4d9a-8944-5771e31ea9f0",
   "metadata": {},
   "source": [
    "Q7. Write a List Comprehension to iterate through the given string: ‘pwskills’.\n",
    "Expected output: ['p', 'w', 's', 'k', 'i', 'l', 'l', 's']\n",
    "\n",
    "Ans= "
   ]
  },
  {
   "cell_type": "code",
   "execution_count": 4,
   "id": "7d1733d5-7cb8-45e7-a66d-8689d0521b73",
   "metadata": {},
   "outputs": [
    {
     "name": "stdout",
     "output_type": "stream",
     "text": [
      "['p', 'w', 's', 'k', 'i', 'l', 'l', 's']\n"
     ]
    }
   ],
   "source": [
    "l= []\n",
    "for word in 'pwskills':\n",
    "    l.append(word)\n",
    "print (l)"
   ]
  },
  {
   "cell_type": "raw",
   "id": "8f8912dc-8380-437b-ad10-78bd63bc421e",
   "metadata": {},
   "source": [
    "Q8. Write a python program to check whether a given number is Palindrome or not using a while loop.\n",
    "\n",
    "Ans= "
   ]
  },
  {
   "cell_type": "code",
   "execution_count": 4,
   "id": "fda8a665-c2e7-4269-a3cd-1bea7672217d",
   "metadata": {},
   "outputs": [
    {
     "name": "stdin",
     "output_type": "stream",
     "text": [
      "enter a number 455\n"
     ]
    },
    {
     "name": "stdout",
     "output_type": "stream",
     "text": [
      "the number is not palindrom\n"
     ]
    }
   ],
   "source": [
    "def palindome(num):\n",
    "    num_str = str(num)\n",
    "    reversed_num_str = num_str[::-1]\n",
    "    return num_str == reversed_num_str\n",
    "num = int(input(\"enter a number\"))\n",
    "if palindome(num):\n",
    "    print(\"the number is a palindrom\")\n",
    "else:\n",
    "    print(\"the number is not palindrom\")"
   ]
  },
  {
   "cell_type": "raw",
   "id": "8073793a-8d75-47de-892b-ac60c29512e9",
   "metadata": {},
   "source": [
    "Q9. Write a code to print odd numbers from 1 to 100 using list comprehension.\n",
    "\n",
    "Ans= "
   ]
  },
  {
   "cell_type": "code",
   "execution_count": 47,
   "id": "3a5e75f2-2cb9-41a4-8b06-6cc99350ab39",
   "metadata": {},
   "outputs": [
    {
     "name": "stdout",
     "output_type": "stream",
     "text": [
      "odd_numbers=  [1]\n",
      "odd_numbers=  [1, 3]\n",
      "odd_numbers=  [1, 3, 5]\n",
      "odd_numbers=  [1, 3, 5, 7]\n",
      "odd_numbers=  [1, 3, 5, 7, 9]\n",
      "odd_numbers=  [1, 3, 5, 7, 9, 11]\n",
      "odd_numbers=  [1, 3, 5, 7, 9, 11, 13]\n",
      "odd_numbers=  [1, 3, 5, 7, 9, 11, 13, 15]\n",
      "odd_numbers=  [1, 3, 5, 7, 9, 11, 13, 15, 17]\n",
      "odd_numbers=  [1, 3, 5, 7, 9, 11, 13, 15, 17, 19]\n",
      "odd_numbers=  [1, 3, 5, 7, 9, 11, 13, 15, 17, 19, 21]\n",
      "odd_numbers=  [1, 3, 5, 7, 9, 11, 13, 15, 17, 19, 21, 23]\n",
      "odd_numbers=  [1, 3, 5, 7, 9, 11, 13, 15, 17, 19, 21, 23, 25]\n",
      "odd_numbers=  [1, 3, 5, 7, 9, 11, 13, 15, 17, 19, 21, 23, 25, 27]\n",
      "odd_numbers=  [1, 3, 5, 7, 9, 11, 13, 15, 17, 19, 21, 23, 25, 27, 29]\n",
      "odd_numbers=  [1, 3, 5, 7, 9, 11, 13, 15, 17, 19, 21, 23, 25, 27, 29, 31]\n",
      "odd_numbers=  [1, 3, 5, 7, 9, 11, 13, 15, 17, 19, 21, 23, 25, 27, 29, 31, 33]\n",
      "odd_numbers=  [1, 3, 5, 7, 9, 11, 13, 15, 17, 19, 21, 23, 25, 27, 29, 31, 33, 35]\n",
      "odd_numbers=  [1, 3, 5, 7, 9, 11, 13, 15, 17, 19, 21, 23, 25, 27, 29, 31, 33, 35, 37]\n",
      "odd_numbers=  [1, 3, 5, 7, 9, 11, 13, 15, 17, 19, 21, 23, 25, 27, 29, 31, 33, 35, 37, 39]\n",
      "odd_numbers=  [1, 3, 5, 7, 9, 11, 13, 15, 17, 19, 21, 23, 25, 27, 29, 31, 33, 35, 37, 39, 41]\n",
      "odd_numbers=  [1, 3, 5, 7, 9, 11, 13, 15, 17, 19, 21, 23, 25, 27, 29, 31, 33, 35, 37, 39, 41, 43]\n",
      "odd_numbers=  [1, 3, 5, 7, 9, 11, 13, 15, 17, 19, 21, 23, 25, 27, 29, 31, 33, 35, 37, 39, 41, 43, 45]\n",
      "odd_numbers=  [1, 3, 5, 7, 9, 11, 13, 15, 17, 19, 21, 23, 25, 27, 29, 31, 33, 35, 37, 39, 41, 43, 45, 47]\n",
      "odd_numbers=  [1, 3, 5, 7, 9, 11, 13, 15, 17, 19, 21, 23, 25, 27, 29, 31, 33, 35, 37, 39, 41, 43, 45, 47, 49]\n",
      "odd_numbers=  [1, 3, 5, 7, 9, 11, 13, 15, 17, 19, 21, 23, 25, 27, 29, 31, 33, 35, 37, 39, 41, 43, 45, 47, 49, 51]\n",
      "odd_numbers=  [1, 3, 5, 7, 9, 11, 13, 15, 17, 19, 21, 23, 25, 27, 29, 31, 33, 35, 37, 39, 41, 43, 45, 47, 49, 51, 53]\n",
      "odd_numbers=  [1, 3, 5, 7, 9, 11, 13, 15, 17, 19, 21, 23, 25, 27, 29, 31, 33, 35, 37, 39, 41, 43, 45, 47, 49, 51, 53, 55]\n",
      "odd_numbers=  [1, 3, 5, 7, 9, 11, 13, 15, 17, 19, 21, 23, 25, 27, 29, 31, 33, 35, 37, 39, 41, 43, 45, 47, 49, 51, 53, 55, 57]\n",
      "odd_numbers=  [1, 3, 5, 7, 9, 11, 13, 15, 17, 19, 21, 23, 25, 27, 29, 31, 33, 35, 37, 39, 41, 43, 45, 47, 49, 51, 53, 55, 57, 59]\n",
      "odd_numbers=  [1, 3, 5, 7, 9, 11, 13, 15, 17, 19, 21, 23, 25, 27, 29, 31, 33, 35, 37, 39, 41, 43, 45, 47, 49, 51, 53, 55, 57, 59, 61]\n",
      "odd_numbers=  [1, 3, 5, 7, 9, 11, 13, 15, 17, 19, 21, 23, 25, 27, 29, 31, 33, 35, 37, 39, 41, 43, 45, 47, 49, 51, 53, 55, 57, 59, 61, 63]\n",
      "odd_numbers=  [1, 3, 5, 7, 9, 11, 13, 15, 17, 19, 21, 23, 25, 27, 29, 31, 33, 35, 37, 39, 41, 43, 45, 47, 49, 51, 53, 55, 57, 59, 61, 63, 65]\n",
      "odd_numbers=  [1, 3, 5, 7, 9, 11, 13, 15, 17, 19, 21, 23, 25, 27, 29, 31, 33, 35, 37, 39, 41, 43, 45, 47, 49, 51, 53, 55, 57, 59, 61, 63, 65, 67]\n",
      "odd_numbers=  [1, 3, 5, 7, 9, 11, 13, 15, 17, 19, 21, 23, 25, 27, 29, 31, 33, 35, 37, 39, 41, 43, 45, 47, 49, 51, 53, 55, 57, 59, 61, 63, 65, 67, 69]\n",
      "odd_numbers=  [1, 3, 5, 7, 9, 11, 13, 15, 17, 19, 21, 23, 25, 27, 29, 31, 33, 35, 37, 39, 41, 43, 45, 47, 49, 51, 53, 55, 57, 59, 61, 63, 65, 67, 69, 71]\n",
      "odd_numbers=  [1, 3, 5, 7, 9, 11, 13, 15, 17, 19, 21, 23, 25, 27, 29, 31, 33, 35, 37, 39, 41, 43, 45, 47, 49, 51, 53, 55, 57, 59, 61, 63, 65, 67, 69, 71, 73]\n",
      "odd_numbers=  [1, 3, 5, 7, 9, 11, 13, 15, 17, 19, 21, 23, 25, 27, 29, 31, 33, 35, 37, 39, 41, 43, 45, 47, 49, 51, 53, 55, 57, 59, 61, 63, 65, 67, 69, 71, 73, 75]\n",
      "odd_numbers=  [1, 3, 5, 7, 9, 11, 13, 15, 17, 19, 21, 23, 25, 27, 29, 31, 33, 35, 37, 39, 41, 43, 45, 47, 49, 51, 53, 55, 57, 59, 61, 63, 65, 67, 69, 71, 73, 75, 77]\n",
      "odd_numbers=  [1, 3, 5, 7, 9, 11, 13, 15, 17, 19, 21, 23, 25, 27, 29, 31, 33, 35, 37, 39, 41, 43, 45, 47, 49, 51, 53, 55, 57, 59, 61, 63, 65, 67, 69, 71, 73, 75, 77, 79]\n",
      "odd_numbers=  [1, 3, 5, 7, 9, 11, 13, 15, 17, 19, 21, 23, 25, 27, 29, 31, 33, 35, 37, 39, 41, 43, 45, 47, 49, 51, 53, 55, 57, 59, 61, 63, 65, 67, 69, 71, 73, 75, 77, 79, 81]\n",
      "odd_numbers=  [1, 3, 5, 7, 9, 11, 13, 15, 17, 19, 21, 23, 25, 27, 29, 31, 33, 35, 37, 39, 41, 43, 45, 47, 49, 51, 53, 55, 57, 59, 61, 63, 65, 67, 69, 71, 73, 75, 77, 79, 81, 83]\n",
      "odd_numbers=  [1, 3, 5, 7, 9, 11, 13, 15, 17, 19, 21, 23, 25, 27, 29, 31, 33, 35, 37, 39, 41, 43, 45, 47, 49, 51, 53, 55, 57, 59, 61, 63, 65, 67, 69, 71, 73, 75, 77, 79, 81, 83, 85]\n",
      "odd_numbers=  [1, 3, 5, 7, 9, 11, 13, 15, 17, 19, 21, 23, 25, 27, 29, 31, 33, 35, 37, 39, 41, 43, 45, 47, 49, 51, 53, 55, 57, 59, 61, 63, 65, 67, 69, 71, 73, 75, 77, 79, 81, 83, 85, 87]\n",
      "odd_numbers=  [1, 3, 5, 7, 9, 11, 13, 15, 17, 19, 21, 23, 25, 27, 29, 31, 33, 35, 37, 39, 41, 43, 45, 47, 49, 51, 53, 55, 57, 59, 61, 63, 65, 67, 69, 71, 73, 75, 77, 79, 81, 83, 85, 87, 89]\n",
      "odd_numbers=  [1, 3, 5, 7, 9, 11, 13, 15, 17, 19, 21, 23, 25, 27, 29, 31, 33, 35, 37, 39, 41, 43, 45, 47, 49, 51, 53, 55, 57, 59, 61, 63, 65, 67, 69, 71, 73, 75, 77, 79, 81, 83, 85, 87, 89, 91]\n",
      "odd_numbers=  [1, 3, 5, 7, 9, 11, 13, 15, 17, 19, 21, 23, 25, 27, 29, 31, 33, 35, 37, 39, 41, 43, 45, 47, 49, 51, 53, 55, 57, 59, 61, 63, 65, 67, 69, 71, 73, 75, 77, 79, 81, 83, 85, 87, 89, 91, 93]\n",
      "odd_numbers=  [1, 3, 5, 7, 9, 11, 13, 15, 17, 19, 21, 23, 25, 27, 29, 31, 33, 35, 37, 39, 41, 43, 45, 47, 49, 51, 53, 55, 57, 59, 61, 63, 65, 67, 69, 71, 73, 75, 77, 79, 81, 83, 85, 87, 89, 91, 93, 95]\n",
      "odd_numbers=  [1, 3, 5, 7, 9, 11, 13, 15, 17, 19, 21, 23, 25, 27, 29, 31, 33, 35, 37, 39, 41, 43, 45, 47, 49, 51, 53, 55, 57, 59, 61, 63, 65, 67, 69, 71, 73, 75, 77, 79, 81, 83, 85, 87, 89, 91, 93, 95, 97]\n",
      "odd_numbers=  [1, 3, 5, 7, 9, 11, 13, 15, 17, 19, 21, 23, 25, 27, 29, 31, 33, 35, 37, 39, 41, 43, 45, 47, 49, 51, 53, 55, 57, 59, 61, 63, 65, 67, 69, 71, 73, 75, 77, 79, 81, 83, 85, 87, 89, 91, 93, 95, 97, 99]\n"
     ]
    }
   ],
   "source": [
    " l= []\n",
    "for i in range (1,101):\n",
    " \n",
    "    if i % 2 == 1:\n",
    "       \n",
    "        l.append(i)\n",
    "        print (\"odd_numbers= \", l)\n",
    "    \n",
    "    \n",
    "   "
   ]
  },
  {
   "cell_type": "code",
   "execution_count": null,
   "id": "092a43e7-8d63-428c-b92a-efebbab7b6a0",
   "metadata": {},
   "outputs": [],
   "source": []
  }
 ],
 "metadata": {
  "kernelspec": {
   "display_name": "Python 3 (ipykernel)",
   "language": "python",
   "name": "python3"
  },
  "language_info": {
   "codemirror_mode": {
    "name": "ipython",
    "version": 3
   },
   "file_extension": ".py",
   "mimetype": "text/x-python",
   "name": "python",
   "nbconvert_exporter": "python",
   "pygments_lexer": "ipython3",
   "version": "3.10.8"
  }
 },
 "nbformat": 4,
 "nbformat_minor": 5
}
